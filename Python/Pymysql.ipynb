{
 "cells": [
  {
   "cell_type": "code",
   "execution_count": 16,
   "metadata": {},
   "outputs": [],
   "source": [
    "import sys\n",
    "import logging\n",
    "import pymysql"
   ]
  },
  {
   "cell_type": "markdown",
   "metadata": {},
   "source": [
    "### [<font color='0000FF'>Step 1</font>] Connect to RDS\n",
    "* `pymysql.connect()`"
   ]
  },
  {
   "cell_type": "code",
   "execution_count": 17,
   "metadata": {},
   "outputs": [],
   "source": [
    "host = 'localhost'\n",
    "username = 'root'\n",
    "#port = \n",
    "database = \"production\"\n",
    "#password = "
   ]
  },
  {
   "cell_type": "code",
   "execution_count": 14,
   "metadata": {},
   "outputs": [],
   "source": [
    "def main():   \n",
    "    try:\n",
    "        password = input(\"Password please: \")\n",
    "        conn = pymysql.connect(host = host, user = username, password = password, db = database, use_unicode = True, charset = 'utf8')\n",
    "        cursor = conn.cursor()\n",
    "    except:\n",
    "        logging.error(\"Could not connect to RDS\")\n",
    "        sys.exit(1)\n",
    "        \n",
    "    cursor.execute(\"SHOW TABLES\")\n",
    "    conn.commit()\n",
    "    print(cursor.fetchall())\n",
    "    return 0"
   ]
  },
  {
   "cell_type": "markdown",
   "metadata": {},
   "source": [
    "### [<font color='0000FF'>Step 2</font>] Basic Queries"
   ]
  },
  {
   "cell_type": "code",
   "execution_count": null,
   "metadata": {},
   "outputs": [],
   "source": []
  }
 ],
 "metadata": {
  "kernelspec": {
   "display_name": "Python 3",
   "language": "python",
   "name": "python3"
  },
  "language_info": {
   "codemirror_mode": {
    "name": "ipython",
    "version": 3
   },
   "file_extension": ".py",
   "mimetype": "text/x-python",
   "name": "python",
   "nbconvert_exporter": "python",
   "pygments_lexer": "ipython3",
   "version": "3.7.8"
  }
 },
 "nbformat": 4,
 "nbformat_minor": 4
}
