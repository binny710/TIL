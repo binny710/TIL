{
 "cells": [
  {
   "cell_type": "markdown",
   "metadata": {},
   "source": [
    "## 정규표현식 \n",
    " - regular expression\n",
    " - 특정한 패턴과 일치하는 문자열를 '검색', '치환', '제거' 하는 기능을 지원\n",
    " - 정규표현식의 도움없이 패턴을 찾는 작업(Rule 기반)은 불완전 하거나, 작업의 cost가 높음\n",
    " - e.g) 이메일 형식 판별, 전화번호 형식 판별, 숫자로만 이루어진 문자열 등"
   ]
  },
  {
   "cell_type": "markdown",
   "metadata": {},
   "source": [
    "### **raw string**\n",
    " - 문자열 앞에 r이 붙으면 해당 문자열이 구성된 그대로 문자열로 변환"
   ]
  },
  {
   "cell_type": "code",
   "execution_count": 1,
   "metadata": {},
   "outputs": [
    {
     "name": "stdout",
     "output_type": "stream",
     "text": [
      "abcdef\n",
      "\n",
      "abcdef\\n\n"
     ]
    }
   ],
   "source": [
    "a = 'abcdef\\n'\n",
    "print(a)\n",
    "\n",
    "b = r'abcdef\\n'\n",
    "print(b)"
   ]
  },
  {
   "cell_type": "markdown",
   "metadata": {},
   "source": [
    "### **search method**\n",
    " - 첫번째로 패턴을 찾으면 match 객체를 반환\n",
    " - 패턴을 찾지 못하면 None 반환"
   ]
  },
  {
   "cell_type": "code",
   "execution_count": 1,
   "metadata": {},
   "outputs": [],
   "source": [
    "import re"
   ]
  },
  {
   "cell_type": "code",
   "execution_count": 4,
   "metadata": {},
   "outputs": [
    {
     "name": "stdout",
     "output_type": "stream",
     "text": [
      "0\n",
      "3\n",
      "abc\n"
     ]
    }
   ],
   "source": [
    "m = re.search(r'abc', 'abcdef')  #'abcdef'에서 'abc'를 찾는다\n",
    "print(m.start())\n",
    "print(m.end())\n",
    "print(m.group())"
   ]
  },
  {
   "cell_type": "code",
   "execution_count": 5,
   "metadata": {},
   "outputs": [
    {
     "name": "stdout",
     "output_type": "stream",
     "text": [
      "None\n"
     ]
    }
   ],
   "source": [
    "m = re.search(r'abc', 'abwcdef')\n",
    "print(m)"
   ]
  },
  {
   "cell_type": "markdown",
   "metadata": {},
   "source": [
    "### **기본 패턴**\n",
    " - a, X, 9 등등 문자 하나하나의 character들은 정확히 해당 문자와 일치\n",
    "   - e.g) 패턴 test는 test 문자열과 일치\n",
    "   - 대소문자의 경우 기본적으로 구별하나, 구별하지 않도록 설정 가능\n",
    " - 몇몇 문자들에 대해서는 예외가 존재하는데, 이들은 특별한 의미로 사용 됨\n",
    "   > . ^ $ * + ? { } [ ] \\ | ( )\n",
    " \n",
    "   - `. (마침표)` : 어떤 한개의 character와 일치 (newline(엔터) 제외)\n",
    "   - `\\w` : 문자 character와 일치 [a-zA-Z0-9_]\n",
    "   - `\\s` : 공백문자와 일치\n",
    "   - `\\t`, `\\n`, `\\r` : tab, newline, return\n",
    "   - `\\d` : 숫자 character와 일치 [0-9]\n",
    "   - `^` = 시작, `$` = 끝 각각 문자열의 시작과 끝을 의미\n",
    "   - \\가 붙으면 스페셜한 의미가 없어짐. 예를들어 \\\\.는 .자체를 의미 \\\\\\는 \\를 의미\n",
    " - 자세한 내용은 링크 참조 https://docs.python.org/3/library/re.html"
   ]
  },
  {
   "cell_type": "code",
   "execution_count": 8,
   "metadata": {},
   "outputs": [
    {
     "name": "stdout",
     "output_type": "stream",
     "text": [
      "<re.Match object; span=(0, 2), match='11'>\n",
      "<re.Match object; span=(0, 4), match='112a'>\n"
     ]
    }
   ],
   "source": [
    "m1 = re.search(r'\\d\\d', '112abcef119')  #연속으로 숫자 두개가 있는 패턴이 있는가? --> 제일 '처음' 만나는 연속적인 두 숫자를 return한다. \n",
    "print(m1)\n",
    "\n",
    "m2 = re.search(r'\\d\\d\\d\\w', '112abcef119')\n",
    "print(m2)"
   ]
  },
  {
   "cell_type": "code",
   "execution_count": 9,
   "metadata": {},
   "outputs": [
    {
     "name": "stdout",
     "output_type": "stream",
     "text": [
      "<re.Match object; span=(2, 6), match='$%AB'>\n"
     ]
    }
   ],
   "source": [
    "m = re.search(r'..\\w\\w', '@#$%ABCDabcd')\n",
    "print(m)"
   ]
  },
  {
   "cell_type": "markdown",
   "metadata": {},
   "source": [
    "#### **.(온점)** \n",
    " - 모든 문자를 의미"
   ]
  },
  {
   "cell_type": "code",
   "execution_count": 24,
   "metadata": {},
   "outputs": [
    {
     "data": {
      "text/plain": [
       "<re.Match object; span=(0, 3), match='pig'>"
      ]
     },
     "execution_count": 24,
     "metadata": {},
     "output_type": "execute_result"
    }
   ],
   "source": [
    "re.search(r'p.g', 'pig')"
   ]
  },
  {
   "cell_type": "markdown",
   "metadata": {},
   "source": [
    "#### **\\ (백슬래시)** \n",
    " 1. 다른 문자와 함께 사용되어 특수한 의미를 지님\n",
    "   - \\d : 숫자를          [0-9]와 동일\n",
    "   - \\D : 숫자가 아닌 문자  [^0-9]와 동일\n",
    "   - \\s : 공백 문자(띄어쓰기, 탭, 엔터 등)\n",
    "   - \\S : 공백이 아닌 문자\n",
    "   - \\w : 알파벳대소문자, 숫자 [0-9a-zA-Z]와 동일\n",
    "   - \\W : non alpha-numeric 문자 [^0-9a-zA-Z]와 동일\n",
    " 2. 메타 캐릭터가 캐릭터 자체를 표현하도록 할 경우 사용\n",
    "   - \\\\. , \\\\\\\n"
   ]
  },
  {
   "cell_type": "code",
   "execution_count": 22,
   "metadata": {},
   "outputs": [
    {
     "name": "stdout",
     "output_type": "stream",
     "text": [
      "<re.Match object; span=(5, 9), match=' and'>\n",
      "None\n"
     ]
    }
   ],
   "source": [
    "print(re.search(r'\\sand', 'apple and banana'))\n",
    "print(re.search(r'\\Sand', 'apple and banana'))"
   ]
  },
  {
   "cell_type": "code",
   "execution_count": 23,
   "metadata": {},
   "outputs": [
    {
     "name": "stdout",
     "output_type": "stream",
     "text": [
      "<re.Match object; span=(0, 4), match='.and'>\n",
      "None\n"
     ]
    }
   ],
   "source": [
    "print(re.search(r'\\.and', '.and'))\n",
    "print(re.search(r'\\.and', 'pand'))"
   ]
  },
  {
   "cell_type": "markdown",
   "metadata": {},
   "source": [
    "### **metacharacters (메타 캐릭터)**"
   ]
  },
  {
   "cell_type": "markdown",
   "metadata": {},
   "source": [
    "#### **[]** 문자들의 범위를 나타내기 위해 사용. 즉 OR의 의미\n",
    "   - [] 내부의 메타 캐릭터는 캐릭터 자체를 나타냄 예) .은 .자체이다.(임의의 캐릭터를 의미하는 것이 아님)\n",
    "   > 예를 들어,\n",
    "   > - [abck] : a or b or c or k\n",
    "   > - [abc.^] : a or b or c or . or ^\n",
    "   > - [a-d]  : -와 함께 사용되면 해당 문자 사이의 범위에 속하는 문자 중 하나\n",
    "   > - [0-9]  : 모든 숫자\n",
    "   > - [a-z]  : 모든 소문자\n",
    "   > - [A-Z]  : 모든 대문자\n",
    "   > - [a-zA-Z0-9] : 모든 알파벳 문자 및 숫자\n",
    "   > - [^0-9] : ^가 맨 앞에 사용 되는 경우 해당 문자 패턴이 아닌 것과 매칭. 즉 이 경우 숫자가 아닌것을 의미"
   ]
  },
  {
   "cell_type": "code",
   "execution_count": 15,
   "metadata": {},
   "outputs": [
    {
     "name": "stdout",
     "output_type": "stream",
     "text": [
      "<re.Match object; span=(0, 3), match='cat'>\n",
      "<re.Match object; span=(0, 3), match='bat'>\n",
      "<re.Match object; span=(0, 3), match='mat'>\n"
     ]
    }
   ],
   "source": [
    "print(re.search(r'[cbm]at', 'cat'))\n",
    "print(re.search(r'[cbm]at', 'bat'))\n",
    "print(re.search(r'[cbm]at', 'mat'))"
   ]
  },
  {
   "cell_type": "code",
   "execution_count": 16,
   "metadata": {},
   "outputs": [
    {
     "name": "stdout",
     "output_type": "stream",
     "text": [
      "<re.Match object; span=(0, 5), match='1haha'>\n",
      "None\n"
     ]
    }
   ],
   "source": [
    "print(re.search(r'[0-9]haha', '1hahaha'))\n",
    "print(re.search(r'[0-4]haha', '7hahaha'))  #출력안됨"
   ]
  },
  {
   "cell_type": "code",
   "execution_count": 19,
   "metadata": {},
   "outputs": [
    {
     "name": "stdout",
     "output_type": "stream",
     "text": [
      "<re.Match object; span=(0, 5), match='caron'>\n",
      "<re.Match object; span=(0, 5), match='.aron'>\n",
      "<re.Match object; span=(0, 5), match='^aron'>\n"
     ]
    }
   ],
   "source": [
    "print(re.search(r'[abc.^]aron', 'caron'))\n",
    "print(re.search(r'[abc.^]aron', '.aron'))\n",
    "print(re.search(r'[abc.^]aron', '^aron'))"
   ]
  },
  {
   "cell_type": "code",
   "execution_count": 21,
   "metadata": {},
   "outputs": [
    {
     "name": "stdout",
     "output_type": "stream",
     "text": [
      "None\n",
      "<re.Match object; span=(0, 5), match='#aron'>\n"
     ]
    }
   ],
   "source": [
    "print(re.search(r'[^abc]aron', 'aaron'))\n",
    "print(re.search(r'[^abc]aron', '#aron'))"
   ]
  },
  {
   "cell_type": "markdown",
   "metadata": {},
   "source": [
    "### **반복패턴**\n",
    " - 패턴 뒤에 위치하는 *, +, ?는 해당 패턴이 반복적으로 존재하는지 검사 \n",
    "   - '+' -> 1번 이상의 패턴이 발생\n",
    "   - '*' -> 0번 이상의 패턴이 발생\n",
    "   - '?' -> 0 혹은 1번의 패턴이 발생\n",
    " - 반복을 패턴의 경우 **greedy하게** 검색 함, 즉 가능한 많은 부분이 매칭되도록 함\n",
    "  - e.g) a[bcd]*b  패턴을 abcbdccb에서 검색하는 경우\n",
    "    - ab, abcb, abcbdccb 전부 가능 하지만 최대한 많은 부분이 매칭된 abcbdccb가 검색된 패턴"
   ]
  },
  {
   "cell_type": "code",
   "execution_count": 25,
   "metadata": {},
   "outputs": [
    {
     "data": {
      "text/plain": [
       "<re.Match object; span=(0, 8), match='abcbdccb'>"
      ]
     },
     "execution_count": 25,
     "metadata": {},
     "output_type": "execute_result"
    }
   ],
   "source": [
    "re.search(r'a[bcd]*b', 'abcbdccb')  "
   ]
  },
  {
   "cell_type": "code",
   "execution_count": 26,
   "metadata": {},
   "outputs": [
    {
     "data": {
      "text/plain": [
       "<re.Match object; span=(0, 6), match='banana'>"
      ]
     },
     "execution_count": 26,
     "metadata": {},
     "output_type": "execute_result"
    }
   ],
   "source": [
    "re.search(r'b\\w+a', 'bananan')"
   ]
  },
  {
   "cell_type": "code",
   "execution_count": 27,
   "metadata": {},
   "outputs": [
    {
     "data": {
      "text/plain": [
       "<re.Match object; span=(1, 2), match='i'>"
      ]
     },
     "execution_count": 27,
     "metadata": {},
     "output_type": "execute_result"
    }
   ],
   "source": [
    "re.search(r'i+', 'pigiii')"
   ]
  },
  {
   "cell_type": "code",
   "execution_count": 29,
   "metadata": {},
   "outputs": [
    {
     "name": "stdout",
     "output_type": "stream",
     "text": [
      "None\n",
      "<re.Match object; span=(0, 2), match='pg'>\n"
     ]
    }
   ],
   "source": [
    "print(re.search(r'pi+g', 'pg'))\n",
    "print(re.search(r'pi*g', 'pg'))"
   ]
  },
  {
   "cell_type": "code",
   "execution_count": 31,
   "metadata": {},
   "outputs": [
    {
     "data": {
      "text/plain": [
       "<re.Match object; span=(0, 4), match='http'>"
      ]
     },
     "execution_count": 31,
     "metadata": {},
     "output_type": "execute_result"
    }
   ],
   "source": [
    "re.search(r'https?', 'http://www.naver.com')  #s가 없어도 검출된다. "
   ]
  },
  {
   "cell_type": "markdown",
   "metadata": {},
   "source": [
    "### **^**, **$**\n",
    " - ^  문자열의 맨 앞부터 일치하는 경우 검색\n",
    " - \\$  문자열의 맨 뒤부터 일치하는 경우 검색"
   ]
  },
  {
   "cell_type": "code",
   "execution_count": 32,
   "metadata": {},
   "outputs": [
    {
     "data": {
      "text/plain": [
       "<re.Match object; span=(2, 6), match='bana'>"
      ]
     },
     "execution_count": 32,
     "metadata": {},
     "output_type": "execute_result"
    }
   ],
   "source": [
    "re.search(r'b\\w+a', 'cabana')"
   ]
  },
  {
   "cell_type": "code",
   "execution_count": 33,
   "metadata": {},
   "outputs": [
    {
     "name": "stdout",
     "output_type": "stream",
     "text": [
      "None\n",
      "<re.Match object; span=(0, 6), match='babana'>\n"
     ]
    }
   ],
   "source": [
    "print(re.search(r'^b\\w+a', 'cabana'))\n",
    "print(re.search(r'^b\\w+a', 'babana'))"
   ]
  },
  {
   "cell_type": "code",
   "execution_count": 34,
   "metadata": {},
   "outputs": [
    {
     "name": "stdout",
     "output_type": "stream",
     "text": [
      "<re.Match object; span=(0, 6), match='babana'>\n",
      "None\n"
     ]
    }
   ],
   "source": [
    "print(re.search(r'b\\w+a$', 'babana'))\n",
    "print(re.search(r'b\\w+a$', 'babanap'))"
   ]
  },
  {
   "cell_type": "markdown",
   "metadata": {},
   "source": [
    "### **grouping()**\n",
    "  - ()을 사용하여 그루핑\n",
    "  - 매칭 결과를 각 그룹별로 분리 가능\n",
    "  - 패턴 명시 할 때, 각 그룹을 괄호() 안에 넣어 분리하여 사용"
   ]
  },
  {
   "cell_type": "code",
   "execution_count": 37,
   "metadata": {},
   "outputs": [
    {
     "name": "stdout",
     "output_type": "stream",
     "text": [
      "test\n",
      "gmail.com\n",
      "test@gmail.com\n"
     ]
    }
   ],
   "source": [
    "m1 = re.search(r'\\w+@.+', 'test@gmail.com')\n",
    "m1.group()\n",
    "\n",
    "m2 = re.search(r'(\\w+)@(.+)', 'test@gmail.com')\n",
    "print(m2.group(1))\n",
    "print(m2.group(2))\n",
    "print(m2.group(0))"
   ]
  },
  {
   "cell_type": "markdown",
   "metadata": {},
   "source": [
    " ### **{}**\n",
    "  - *, +, ?을 사용하여 반복적인 패턴을 찾는 것이 가능하나, 반복의 횟수 제한은 불가\n",
    "  - 패턴뒤에 위치하는 중괄호{}에 숫자를 명시하면 해당 숫자 만큼의 반복인 경우에만 매칭\n",
    "  - {4} - 4번 반복\n",
    "  - {3,4} - 3 ~ 4번 반복(,(comma)뒤에 뛰어쓰기 하면 안된다.)"
   ]
  },
  {
   "cell_type": "code",
   "execution_count": 39,
   "metadata": {},
   "outputs": [
    {
     "name": "stdout",
     "output_type": "stream",
     "text": [
      "<re.Match object; span=(0, 8), match='piiiiiig'>\n",
      "<re.Match object; span=(0, 11), match='piiiiiiiiig'>\n",
      "<re.Match object; span=(0, 5), match='piiig'>\n"
     ]
    }
   ],
   "source": [
    "print(re.search(r'pi+g', 'piiiiiig'))\n",
    "print(re.search(r'pi+g', 'piiiiiiiiig'))\n",
    "\n",
    "print(re.search(r'pi{3}g', 'piiig'))"
   ]
  },
  {
   "cell_type": "code",
   "execution_count": 41,
   "metadata": {},
   "outputs": [
    {
     "name": "stdout",
     "output_type": "stream",
     "text": [
      "<re.Match object; span=(0, 5), match='piiig'>\n",
      "<re.Match object; span=(0, 6), match='piiiig'>\n",
      "<re.Match object; span=(0, 7), match='piiiiig'>\n"
     ]
    }
   ],
   "source": [
    "##이것도 greedy하게 검출!\n",
    "print(re.search(r'pi{3,5}g', 'piiig'))\n",
    "print(re.search(r'pi{3,5}g', 'piiiig'))\n",
    "print(re.search(r'pi{3,5}g', 'piiiiig'))"
   ]
  },
  {
   "cell_type": "markdown",
   "metadata": {},
   "source": [
    "#### **미니멈 매칭(non-greedy way)**\n",
    " - 기본적으로 *, +, ?를 사용하면 greedy(맥시멈 매칭)하게 동작함\n",
    " - *?, +?을 이용하여 해당 기능을 구현"
   ]
  },
  {
   "cell_type": "code",
   "execution_count": 42,
   "metadata": {},
   "outputs": [
    {
     "name": "stdout",
     "output_type": "stream",
     "text": [
      "<re.Match object; span=(0, 17), match='<html>haha</html>'>\n",
      "<re.Match object; span=(0, 6), match='<html>'>\n"
     ]
    }
   ],
   "source": [
    "print(re.search(r'<.+>', '<html>haha</html>'))\n",
    "print(re.search(r'<.+?>', '<html>haha</html>'))"
   ]
  },
  {
   "cell_type": "markdown",
   "metadata": {},
   "source": [
    "#### **{}?**\n",
    " - {m,n}의 경우 m번 에서 n번 반복하나 greedy하게 동작\n",
    " - {m,n}?로 사용하면 **non-greedy하게** 동작. 즉, 최소 m번만 매칭하면 만족"
   ]
  },
  {
   "cell_type": "code",
   "execution_count": 43,
   "metadata": {},
   "outputs": [
    {
     "name": "stdout",
     "output_type": "stream",
     "text": [
      "<re.Match object; span=(0, 5), match='aaaaa'>\n",
      "<re.Match object; span=(0, 3), match='aaa'>\n"
     ]
    }
   ],
   "source": [
    "print(re.search(r'a{3,5}', 'aaaaaaa'))\n",
    "print(re.search(r'a{3,5}?', 'aaaaaaa'))"
   ]
  },
  {
   "cell_type": "markdown",
   "metadata": {},
   "source": [
    "---"
   ]
  },
  {
   "cell_type": "markdown",
   "metadata": {},
   "source": [
    "(`search`이외의 다른 함수도 알아보자)"
   ]
  },
  {
   "cell_type": "markdown",
   "metadata": {},
   "source": [
    "#### **match**\n",
    " - search와 유사하나, 주어진 문자열의 시작부터 비교하여 패턴이 있는지 확인\n",
    " - 시작부터 해당 패턴이 존재하지 않다면 None 반환"
   ]
  },
  {
   "cell_type": "code",
   "execution_count": 44,
   "metadata": {},
   "outputs": [
    {
     "name": "stdout",
     "output_type": "stream",
     "text": [
      "None\n",
      "<re.Match object; span=(0, 3), match='123'>\n"
     ]
    }
   ],
   "source": [
    "print(re.match(r'\\d\\d\\d', 'My number is 123.'))\n",
    "print(re.match(r'\\d\\d\\d', '123 is my number.'))"
   ]
  },
  {
   "cell_type": "code",
   "execution_count": 45,
   "metadata": {},
   "outputs": [
    {
     "name": "stdout",
     "output_type": "stream",
     "text": [
      "<re.Match object; span=(13, 16), match='123'>\n"
     ]
    }
   ],
   "source": [
    "print(re.search(r'\\d\\d\\d', 'My number is 123.'))"
   ]
  },
  {
   "cell_type": "markdown",
   "metadata": {},
   "source": [
    "#### **findall**\n",
    " - search가 최초로 매칭되는 패턴만 반환한다면, findall은 매칭되는 전체의 패턴을 반환\n",
    " - 매칭되는 모든 결과를 리스트 형태로 반환"
   ]
  },
  {
   "cell_type": "code",
   "execution_count": 46,
   "metadata": {},
   "outputs": [
    {
     "data": {
      "text/plain": [
       "['test@gmail.com', 'test2@gmail.com']"
      ]
     },
     "execution_count": 46,
     "metadata": {},
     "output_type": "execute_result"
    }
   ],
   "source": [
    "re.findall(r'[\\w]+@[\\w.]+', 'test@gmail.com hahah test2@gmail.com nice test test')"
   ]
  },
  {
   "cell_type": "markdown",
   "metadata": {},
   "source": [
    "#### **sub**\n",
    " - 주어진 문자열에서 일치하는 모든 패턴을 replace\n",
    " - 그 결과를 문자열로 다시 반환함\n",
    " - 두번째 인자는 특정 문자열이 될 수도 있고, 함수가 될 수 도 있음\n",
    " - count가 0인 경우는 전체를, 1이상이면 해당 숫자만큼 치환 됨"
   ]
  },
  {
   "cell_type": "code",
   "execution_count": 50,
   "metadata": {},
   "outputs": [
    {
     "name": "stdout",
     "output_type": "stream",
     "text": [
      "great hahah great nice test test\n",
      "great hahah test2@gmail.com nice test test\n"
     ]
    }
   ],
   "source": [
    "print(re.sub(r'[\\w]+@[\\w.]+', 'great','test@gmail.com hahah test2@gmail.com nice test test'))\n",
    "print(re.sub(r'[\\w]+@[\\w.]+', 'great','test@gmail.com hahah test2@gmail.com nice test test', count =1))"
   ]
  },
  {
   "cell_type": "markdown",
   "metadata": {},
   "source": [
    "#### **compile**\n",
    " - 동일한 정규표현식을 매번 다시 쓰기 번거로움을 해결\n",
    " - compile로 해당표현식을 re.RegexObject 객체로 저장하여 사용가능"
   ]
  },
  {
   "cell_type": "code",
   "execution_count": 51,
   "metadata": {},
   "outputs": [
    {
     "data": {
      "text/plain": [
       "<re.Match object; span=(0, 14), match='test@gmail.com'>"
      ]
     },
     "execution_count": 51,
     "metadata": {},
     "output_type": "execute_result"
    }
   ],
   "source": [
    "email_reg = re.compile(r'[\\w]+@[\\w.]+')\n",
    "email_reg.search('test@gmail.com hahah')"
   ]
  },
  {
   "cell_type": "markdown",
   "metadata": {},
   "source": [
    "### 연습문제 \n",
    "  - 아래 뉴스에서 이메일 주소를 추출해 보세요\n",
    "  - 다음중 올바른 (http, https) 웹페이지만 찾으시오"
   ]
  },
  {
   "cell_type": "code",
   "execution_count": null,
   "metadata": {},
   "outputs": [],
   "source": [
    "import requests\n",
    "from bs4 import BeautifulSoup\n",
    "# 위의 두 모듈이 없는 경우에는 pip install requests bs4 실행\n",
    "\n",
    "def get_news_content(url):\n",
    "    response = requests.get(url)\n",
    "    content = response.text\n",
    "\n",
    "    soup = BeautifulSoup(content, 'html5lib')\n",
    "\n",
    "    div = soup.find('div', attrs = {'id' : 'harmonyContainer'})\n",
    "    \n",
    "    content = ''\n",
    "    for paragraph in div.find_all('p'):\n",
    "        content += paragraph.get_text()\n",
    "        \n",
    "    return content\n",
    "\n",
    "news1 = get_news_content('https://news.v.daum.net/v/20190617073049838')\n",
    "print(news1)\n"
   ]
  },
  {
   "cell_type": "code",
   "execution_count": null,
   "metadata": {},
   "outputs": [],
   "source": []
  },
  {
   "cell_type": "code",
   "execution_count": null,
   "metadata": {},
   "outputs": [],
   "source": [
    "webs = ['http://www.test.co.kr', \n",
    "        'https://www.test1.com', \n",
    "        'http://www.test.com', \n",
    "        'ftp://www.test.com', \n",
    "        'http:://www.test.com',\n",
    "       'htp://www.test.com',\n",
    "       'http://www.google.com', \n",
    "       'https://www.homepage.com.']"
   ]
  },
  {
   "cell_type": "code",
   "execution_count": null,
   "metadata": {},
   "outputs": [],
   "source": []
  },
  {
   "cell_type": "code",
   "execution_count": null,
   "metadata": {},
   "outputs": [],
   "source": []
  }
 ],
 "metadata": {
  "kernelspec": {
   "display_name": "Python 3",
   "language": "python",
   "name": "python3"
  },
  "language_info": {
   "codemirror_mode": {
    "name": "ipython",
    "version": 3
   },
   "file_extension": ".py",
   "mimetype": "text/x-python",
   "name": "python",
   "nbconvert_exporter": "python",
   "pygments_lexer": "ipython3",
   "version": "3.7.6"
  }
 },
 "nbformat": 4,
 "nbformat_minor": 4
}
