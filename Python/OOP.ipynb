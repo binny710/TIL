{
 "cells": [
  {
   "cell_type": "markdown",
   "metadata": {},
   "source": [
    "## 1. OOP(object-oriented programming)"
   ]
  },
  {
   "cell_type": "markdown",
   "metadata": {},
   "source": [
    "<font color = 'FF0000'> **Class, object 중심의 프로그래밍: OOP** (Object-Oriented Programming)</font>\n",
    "\n",
    "* OOP는 class를 만들고, class의 instance를 만들어서 활용하는 프로그래밍 방법이다.\n",
    "\n",
    "* type, dir, vars => 객체 지향에서 중요한 함수 3총사\n",
    "  - type : class 명을 알려준다\n",
    "  - dir : class 내에 정의된 class attribute, method, instance attribute 모두 알려준다.\n",
    "  - vars : 현재 instance variable이 무엇인지 확인 e.g. `p1 = Person(); vars(p1)`\n",
    "\n",
    "* design pattern\n",
    "  - 객체 지향 프로그래밍을 어떻게 design 할 것인가\n",
    "  - 객체 지향 프로그래밍의 장점 : 대규모 프로그래밍 상황에서 유지 보수가 용이하다\n",
    "     - 특정 클래스를 변경하고 싶을 때 --> 그냥 method를 추가하거나, 삭제, 변경하면 된다.\n",
    "     - **abstraction, encapsulation, inheritance, polymorphism**\n",
    "     - e.g. \n",
    "     ```\n",
    "     import inspect\n",
    "     print(inspect.getsource(sns.load_dataset))\n",
    "     ```\n",
    "     - **예전 방식**: 남이 만든 module 내 function 가져와서 조금 바꿔서 사용\n",
    "     - **요즘 방식**: (만약 function 코딩의 길이가 아주 길다면? 위와 같은 방식은 불편/또한 source를 제공하는 프로그래밍 언어가 많지 않다.)=> **OOP**를 기반으로 바로 상속받음 : 이후에 **over riding**(새로운 기능을 추가 하던지 이전 기능을 덮던지..바꿔준다.)"
   ]
  },
  {
   "cell_type": "markdown",
   "metadata": {},
   "source": [
    "---"
   ]
  },
  {
   "cell_type": "markdown",
   "metadata": {},
   "source": [
    "#### OOP in Python\n",
    "Objects are described by a *class*, which can generate one or more *instances*, unrelated each other. A class contains *methods*, which are functions, and they accept at least one argument called `self`, which is the actual instance on which the method has been called. A special method, `__init__()` deals with the initialization of the object, setting the initial value of the *attributes*."
   ]
  },
  {
   "cell_type": "markdown",
   "metadata": {},
   "source": [
    "#### 절차적 프로그래밍\n",
    "data와 modification 과정을 분리하는 것이 적절하지 못할때가 있다. "
   ]
  },
  {
   "cell_type": "code",
   "execution_count": 1,
   "metadata": {},
   "outputs": [],
   "source": [
    "# These are two standard doors, initially closed\n",
    "door1 = [1, 'closed']\n",
    "door2 = [2, 'closed']\n",
    "\n",
    "# This is a lockable door, initially closed and unlocked\n",
    "ldoor1 = [1, 'closed', 'unlocked']\n",
    "\n",
    "# This procedure opens a standard door\n",
    "def open_door(door):\n",
    "    door[1] = 'open'\n",
    "\n",
    "# This procedure opens a lockable door\n",
    "def open_ldoor(door):\n",
    "    if door[2] == 'unlocked':\n",
    "        door[1] = 'open'"
   ]
  },
  {
   "cell_type": "code",
   "execution_count": 2,
   "metadata": {},
   "outputs": [
    {
     "data": {
      "text/plain": [
       "[1, 'open']"
      ]
     },
     "execution_count": 2,
     "metadata": {},
     "output_type": "execute_result"
    }
   ],
   "source": [
    "open_door(door1)\n",
    "door1"
   ]
  },
  {
   "cell_type": "code",
   "execution_count": 3,
   "metadata": {},
   "outputs": [
    {
     "name": "stdout",
     "output_type": "stream",
     "text": [
      "[1, 'open', 'unlocked']\n"
     ]
    }
   ],
   "source": [
    "open_ldoor(ldoor1)\n",
    "print(ldoor1)"
   ]
  },
  {
   "cell_type": "markdown",
   "metadata": {},
   "source": [
    "#### 객체지향 프로그래밍"
   ]
  },
  {
   "cell_type": "code",
   "execution_count": 4,
   "metadata": {},
   "outputs": [],
   "source": [
    "class Door:\n",
    "    def __init__(self, number=0, status='open'): #이러면 instance 만들때 아무 것도 안 넣어도 된다.\n",
    "        self.number = number\n",
    "        self.status = status\n",
    "        \n",
    "    def open(self):\n",
    "        self.status = 'open'\n",
    "        \n",
    "    def close(self):\n",
    "        self.status = 'closed'"
   ]
  },
  {
   "cell_type": "code",
   "execution_count": 5,
   "metadata": {},
   "outputs": [],
   "source": [
    "door1 = Door(1, 'closed')\n",
    "door2 = Door(2, 'closed')"
   ]
  },
  {
   "cell_type": "code",
   "execution_count": 6,
   "metadata": {},
   "outputs": [
    {
     "data": {
      "text/plain": [
       "{'number': 1, 'status': 'open'}"
      ]
     },
     "execution_count": 6,
     "metadata": {},
     "output_type": "execute_result"
    }
   ],
   "source": [
    "door1.open()\n",
    "vars(door1)"
   ]
  },
  {
   "cell_type": "code",
   "execution_count": 7,
   "metadata": {},
   "outputs": [
    {
     "data": {
      "text/plain": [
       "{'number': 1, 'status': 'open'}"
      ]
     },
     "execution_count": 7,
     "metadata": {},
     "output_type": "execute_result"
    }
   ],
   "source": [
    "door1.__dict__   #이렇게도 확인할 수 있다. "
   ]
  },
  {
   "cell_type": "markdown",
   "metadata": {},
   "source": [
    "Two instances(`door1`, `door2`) are separate and unrelated."
   ]
  },
  {
   "cell_type": "code",
   "execution_count": 8,
   "metadata": {},
   "outputs": [
    {
     "data": {
      "text/plain": [
       "'0x11137fa10'"
      ]
     },
     "execution_count": 8,
     "metadata": {},
     "output_type": "execute_result"
    }
   ],
   "source": [
    "hex(id(door1))       #메모리는 보통 16진수로 표현한다."
   ]
  },
  {
   "cell_type": "code",
   "execution_count": 9,
   "metadata": {},
   "outputs": [
    {
     "data": {
      "text/plain": [
       "'0x11137ffd0'"
      ]
     },
     "execution_count": 9,
     "metadata": {},
     "output_type": "execute_result"
    }
   ],
   "source": [
    "hex(id(door2))"
   ]
  },
  {
   "cell_type": "markdown",
   "metadata": {},
   "source": [
    "---"
   ]
  },
  {
   "cell_type": "markdown",
   "metadata": {},
   "source": [
    "## 2. OOP의 장점\n",
    "\n",
    "<font color='FF0000'>**abstration, encapsulation, inheritance, polymorphism**: 장점 4가지 좀 더 자세히 보기</font>\n",
    "\n",
    "1. abstraction : 추상적인 대상(행동은 안 함)을 만들어 놓고, 실제 행동은 하위 class들이 한다.\n",
    "\n",
    "\n",
    "2. encapsulation   \"capsule 내의 내용은 밖에서는 수정 불가능하다\" \n",
    "  - **public**(다 접근할 수 있음 => 파이썬의 경우 모든 것이 public_즉, 밖에서 안의 내용 접근 가능)\n",
    "  -  private(안에서만 접근할 수 있음_심지어 자식도 접근 불가능 => 대부분 언어에서 기본 설정/하지만 파이썬에서는 private을 지원하지 않는다)\n",
    "  -  protected(private과 비슷 + 자식은 접근할 수 있음)\n",
    "  -  package(하나의 모듈 안에서는 접근할 수 있음)\n",
    "  > python은 **public/protected**를 제공한다.\n",
    "\n",
    "\n",
    "3. inheritance : 결론은, 다중상속 지원하지만, 다중상속 사용하지 말자\n",
    "\n",
    "\n",
    "4. polymorphism \n",
    "  - **overriding** based on inheritance(대부분의 언어에서 제공하는 polymorphism 상속 기반 형태)/상속에 기반하지 않는 overridinge도 파이썬은 제공한다.\n",
    "  - method **overloading** (파이썬 제공 안함)& operator **overloading**(파이썬 제공)"
   ]
  },
  {
   "cell_type": "markdown",
   "metadata": {},
   "source": [
    "---"
   ]
  },
  {
   "cell_type": "markdown",
   "metadata": {},
   "source": [
    "### Encapsulation"
   ]
  },
  {
   "cell_type": "code",
   "execution_count": 1,
   "metadata": {},
   "outputs": [
    {
     "name": "stdout",
     "output_type": "stream",
     "text": [
      "1\n",
      "2\n"
     ]
    }
   ],
   "source": [
    "class A:\n",
    "    a = 1\n",
    "    \n",
    "print(A.a) #class 내 접근 가능: \"public\"\n",
    "\n",
    "A.a = 2\n",
    "print(A.a) #심지어 수정도 가능: \"public\""
   ]
  },
  {
   "cell_type": "code",
   "execution_count": 6,
   "metadata": {},
   "outputs": [
    {
     "ename": "AttributeError",
     "evalue": "type object 'A' has no attribute '__b'",
     "output_type": "error",
     "traceback": [
      "\u001b[0;31m---------------------------------------------------------------------------\u001b[0m",
      "\u001b[0;31mAttributeError\u001b[0m                            Traceback (most recent call last)",
      "\u001b[0;32m<ipython-input-6-730740cb2a8f>\u001b[0m in \u001b[0;36m<module>\u001b[0;34m\u001b[0m\n\u001b[1;32m      2\u001b[0m     \u001b[0m__b\u001b[0m \u001b[0;34m=\u001b[0m \u001b[0;36m1\u001b[0m\u001b[0;34m\u001b[0m\u001b[0;34m\u001b[0m\u001b[0m\n\u001b[1;32m      3\u001b[0m \u001b[0;34m\u001b[0m\u001b[0m\n\u001b[0;32m----> 4\u001b[0;31m \u001b[0mprint\u001b[0m\u001b[0;34m(\u001b[0m\u001b[0mA\u001b[0m\u001b[0;34m.\u001b[0m\u001b[0m__b\u001b[0m\u001b[0;34m)\u001b[0m\u001b[0;34m\u001b[0m\u001b[0;34m\u001b[0m\u001b[0m\n\u001b[0m\u001b[1;32m      5\u001b[0m \u001b[0;34m\u001b[0m\u001b[0m\n\u001b[1;32m      6\u001b[0m \u001b[0;31m#class내 접근이 불가능한 것처럼 보인다.\u001b[0m\u001b[0;34m\u001b[0m\u001b[0;34m\u001b[0m\u001b[0;34m\u001b[0m\u001b[0m\n",
      "\u001b[0;31mAttributeError\u001b[0m: type object 'A' has no attribute '__b'"
     ]
    }
   ],
   "source": [
    "class A:\n",
    "    __b = 1\n",
    "    \n",
    "print(A.__b)\n",
    "\n",
    "#class내 접근이 불가능한 것처럼 보인다.\n",
    "#사실 접근 된다.(이름이 다르게 저장됐을뿐)"
   ]
  },
  {
   "cell_type": "code",
   "execution_count": 7,
   "metadata": {
    "scrolled": true
   },
   "outputs": [
    {
     "data": {
      "text/plain": [
       "['_A__b',\n",
       " '__class__',\n",
       " '__delattr__',\n",
       " '__dict__',\n",
       " '__dir__',\n",
       " '__doc__',\n",
       " '__eq__',\n",
       " '__format__',\n",
       " '__ge__',\n",
       " '__getattribute__',\n",
       " '__gt__',\n",
       " '__hash__',\n",
       " '__init__',\n",
       " '__init_subclass__',\n",
       " '__le__',\n",
       " '__lt__',\n",
       " '__module__',\n",
       " '__ne__',\n",
       " '__new__',\n",
       " '__reduce__',\n",
       " '__reduce_ex__',\n",
       " '__repr__',\n",
       " '__setattr__',\n",
       " '__sizeof__',\n",
       " '__str__',\n",
       " '__subclasshook__',\n",
       " '__weakref__']"
      ]
     },
     "execution_count": 7,
     "metadata": {},
     "output_type": "execute_result"
    }
   ],
   "source": [
    "dir(A)"
   ]
  },
  {
   "cell_type": "code",
   "execution_count": 8,
   "metadata": {},
   "outputs": [
    {
     "name": "stdout",
     "output_type": "stream",
     "text": [
      "1\n"
     ]
    }
   ],
   "source": [
    "print(A._A__b)"
   ]
  },
  {
   "cell_type": "markdown",
   "metadata": {},
   "source": [
    "---"
   ]
  },
  {
   "cell_type": "markdown",
   "metadata": {},
   "source": [
    "### Delegation: Composition and Inheritance\n",
    "delegation에는 explicit delegation인 **composition**(직접 코드를 입력)과 implicit delegation인 **inheritance**가 있다"
   ]
  },
  {
   "cell_type": "markdown",
   "metadata": {},
   "source": [
    "**(1) Inheritance**"
   ]
  },
  {
   "cell_type": "code",
   "execution_count": 12,
   "metadata": {},
   "outputs": [],
   "source": [
    "class Door:  #object라는 최상위 객체로부터 상속받음/즉, Door(object)가 생략되어 있다.\n",
    "    colour = 'brown'  #class attribute\n",
    "\n",
    "    def __init__(self, number, status):  \n",
    "        self.number = number  #instance attribute\n",
    "        self.status = status\n",
    "\n",
    "    @classmethod  #class method\n",
    "    def knock(cls):\n",
    "        print(\"Knock!\")\n",
    "\n",
    "    @classmethod\n",
    "    def paint(cls, colour):\n",
    "        cls.colour = colour\n",
    "\n",
    "    def open(self):   #instance method\n",
    "        self.status = 'open'\n",
    "        \n",
    "    def close(self):\n",
    "        self.status = 'closed'\n",
    "\n",
    "\n",
    "class SecurityDoor(Door):\n",
    "    colour = 'gray'\n",
    "    locked = True\n",
    "    \n",
    "    def open(self):\n",
    "        if not self.locked:\n",
    "            self.status = 'open'        "
   ]
  },
  {
   "cell_type": "code",
   "execution_count": 11,
   "metadata": {},
   "outputs": [
    {
     "name": "stdout",
     "output_type": "stream",
     "text": [
      "(<class '__main__.Door'>,)\n"
     ]
    }
   ],
   "source": [
    "print(SecurityDoor.__bases__)\n",
    "# 상속받았던 부모를 알려준다\n",
    "# 부모가 여럿 있을 수 있다 왜냐하면 파이썬은 다중상속을 지원하니까\n",
    "# 같은 이름의 메쏘드가 부모 자식 클래스에 모두 있을 경우, mro 이용해서 어떤 클래스의 메쏘드가 우선순위를 갖는지 알 수 있다.(뒤에 예시 있으려나...)(없군...다음시간에 계속)"
   ]
  },
  {
   "cell_type": "code",
   "execution_count": 13,
   "metadata": {},
   "outputs": [
    {
     "name": "stdout",
     "output_type": "stream",
     "text": [
      "closed\n"
     ]
    }
   ],
   "source": [
    "sdoor = SecurityDoor(1, 'closed')\n",
    "print(sdoor.status)"
   ]
  },
  {
   "cell_type": "code",
   "execution_count": 14,
   "metadata": {},
   "outputs": [
    {
     "data": {
      "text/plain": [
       "True"
      ]
     },
     "execution_count": 14,
     "metadata": {},
     "output_type": "execute_result"
    }
   ],
   "source": [
    "sdoor.locked"
   ]
  },
  {
   "cell_type": "code",
   "execution_count": 16,
   "metadata": {},
   "outputs": [
    {
     "name": "stdout",
     "output_type": "stream",
     "text": [
      "closed\n"
     ]
    }
   ],
   "source": [
    "sdoor.open()\n",
    "print(sdoor.status)      #sdoor의 status가 locked여서 문을 열 수 없다. "
   ]
  },
  {
   "cell_type": "markdown",
   "metadata": {},
   "source": [
    "**(2) Composition**"
   ]
  },
  {
   "cell_type": "code",
   "execution_count": 17,
   "metadata": {},
   "outputs": [],
   "source": [
    "# SecurityDoor를 따로 만들었다(Door로부터 상속받지 않고)\n",
    "# 상속받을 경우 코드의 양을 줄일 수 있다\n",
    "\n",
    "class SecurityDoor:\n",
    "    colour = 'gray'\n",
    "    locked = True\n",
    "    \n",
    "    def __init__(self, number, status):\n",
    "        self.door = Door(number, status)\n",
    "        \n",
    "    def open(self):\n",
    "        if self.locked:\n",
    "            return\n",
    "        self.door.open()\n",
    "        \n",
    "    def close(self):\n",
    "        self.door.close()"
   ]
  },
  {
   "cell_type": "code",
   "execution_count": 18,
   "metadata": {},
   "outputs": [
    {
     "name": "stdout",
     "output_type": "stream",
     "text": [
      "Variable       Type            Data/Info\n",
      "----------------------------------------\n",
      "Door           type            <class '__main__.Door'>\n",
      "SecurityDoor   type            <class '__main__.SecurityDoor'>\n",
      "door1          Door            <__main__.Door object at 0x11137fa10>\n",
      "door2          Door            <__main__.Door object at 0x11137ffd0>\n",
      "ldoor1         list            n=3\n",
      "open_door      function        <function open_door at 0x1113725f0>\n",
      "open_ldoor     function        <function open_ldoor at 0x111372710>\n",
      "sdoor          SecurityDoor    <__main__.SecurityDoor object at 0x11121b150>\n"
     ]
    }
   ],
   "source": [
    "%whos"
   ]
  },
  {
   "cell_type": "code",
   "execution_count": 9,
   "metadata": {},
   "outputs": [],
   "source": [
    "#다른 예시\n",
    "class X:\n",
    "    def __init__(self):\n",
    "        print('A')\n",
    "    def a(self):\n",
    "        print('A+')\n",
    "        \n",
    "class Z:\n",
    "    def __init__(self):\n",
    "        X.a(self)  \n",
    "\n",
    "#(상속 받지 않은 경우) X class 내의 a method를 다른 class Z 내에서 이렇게 사용할 수 있다\n",
    "#super().a() : 위와 같은 기능을 기대하지만, 상속받지 않을 경우 사용할 수 없다."
   ]
  },
  {
   "cell_type": "code",
   "execution_count": 10,
   "metadata": {},
   "outputs": [
    {
     "name": "stdout",
     "output_type": "stream",
     "text": [
      "A\n"
     ]
    }
   ],
   "source": [
    "x = X()"
   ]
  },
  {
   "cell_type": "code",
   "execution_count": 11,
   "metadata": {},
   "outputs": [
    {
     "name": "stdout",
     "output_type": "stream",
     "text": [
      "A+\n"
     ]
    }
   ],
   "source": [
    "x.a()"
   ]
  },
  {
   "cell_type": "code",
   "execution_count": 12,
   "metadata": {},
   "outputs": [
    {
     "name": "stdout",
     "output_type": "stream",
     "text": [
      "A+\n"
     ]
    }
   ],
   "source": [
    "z = Z()"
   ]
  },
  {
   "cell_type": "markdown",
   "metadata": {},
   "source": [
    "**(3) 다중상속**"
   ]
  },
  {
   "cell_type": "markdown",
   "metadata": {},
   "source": [
    "* 상속의 종류에는 단일 상속, 다중상속이 있는데 파이썬은 **다중상속**이다. 즉, 부모 여러명에게 상속받을 수 있다\n",
    "* 다중상속의 문제점 : 다이아몬드 문제 --> MRO 지원/다중상속을 지원하지만 최대한 쓰지 말자.\n",
    "\n",
    "[diamond상속](http://upload.wikimedia.org/wikipedia/commons/thumb/8/8e/Diamond_inheritance.svg/440px-Diamond_inheritance.svg.png)"
   ]
  },
  {
   "cell_type": "code",
   "execution_count": 19,
   "metadata": {},
   "outputs": [],
   "source": [
    "# 다이아몬드 상속 예시\n",
    "class A:\n",
    "    def __init__(self):\n",
    "        print('A')\n",
    "        \n",
    "class B(A):\n",
    "    def __init__(self):\n",
    "        print('B')\n",
    "        \n",
    "class C(A):\n",
    "    def __init__(self):\n",
    "        print('C')\n",
    "        \n",
    "class D(B,C):  #다중상속/D는 B,C중 어떤 것을 먼저 상속받을 것인가\n",
    "    def __init__(self):\n",
    "        print('D')"
   ]
  },
  {
   "cell_type": "code",
   "execution_count": 15,
   "metadata": {},
   "outputs": [
    {
     "data": {
      "text/plain": [
       "(__main__.D, __main__.B, __main__.C, __main__.A, object)"
      ]
     },
     "execution_count": 15,
     "metadata": {},
     "output_type": "execute_result"
    }
   ],
   "source": [
    "D.__mro__  #다중상속 받을 경우, 무엇을 먼저 참고하는가\n",
    "# D.mro() 이렇게 써도 된다.\n",
    "# MRO : method resolution order"
   ]
  },
  {
   "cell_type": "code",
   "execution_count": 16,
   "metadata": {},
   "outputs": [
    {
     "ename": "TypeError",
     "evalue": "Cannot create a consistent method resolution\norder (MRO) for bases A, C",
     "output_type": "error",
     "traceback": [
      "\u001b[0;31m---------------------------------------------------------------------------\u001b[0m",
      "\u001b[0;31mTypeError\u001b[0m                                 Traceback (most recent call last)",
      "\u001b[0;32m<ipython-input-16-9b5ef3644618>\u001b[0m in \u001b[0;36m<module>\u001b[0;34m\u001b[0m\n\u001b[1;32m     11\u001b[0m         \u001b[0mprint\u001b[0m\u001b[0;34m(\u001b[0m\u001b[0;34m'C'\u001b[0m\u001b[0;34m)\u001b[0m\u001b[0;34m\u001b[0m\u001b[0;34m\u001b[0m\u001b[0m\n\u001b[1;32m     12\u001b[0m \u001b[0;34m\u001b[0m\u001b[0m\n\u001b[0;32m---> 13\u001b[0;31m \u001b[0;32mclass\u001b[0m \u001b[0mD\u001b[0m\u001b[0;34m(\u001b[0m\u001b[0mA\u001b[0m\u001b[0;34m,\u001b[0m\u001b[0mC\u001b[0m\u001b[0;34m)\u001b[0m\u001b[0;34m:\u001b[0m  \u001b[0;31m#다중상속/D는 A,C중 어떤 것을 먼저 상속받을 것인가\u001b[0m\u001b[0;34m\u001b[0m\u001b[0;34m\u001b[0m\u001b[0m\n\u001b[0m\u001b[1;32m     14\u001b[0m     \u001b[0;32mdef\u001b[0m \u001b[0m__init__\u001b[0m\u001b[0;34m(\u001b[0m\u001b[0mself\u001b[0m\u001b[0;34m)\u001b[0m\u001b[0;34m:\u001b[0m\u001b[0;34m\u001b[0m\u001b[0;34m\u001b[0m\u001b[0m\n\u001b[1;32m     15\u001b[0m         \u001b[0mprint\u001b[0m\u001b[0;34m(\u001b[0m\u001b[0;34m'D'\u001b[0m\u001b[0;34m)\u001b[0m\u001b[0;34m\u001b[0m\u001b[0;34m\u001b[0m\u001b[0m\n",
      "\u001b[0;31mTypeError\u001b[0m: Cannot create a consistent method resolution\norder (MRO) for bases A, C"
     ]
    }
   ],
   "source": [
    "class A:\n",
    "    def __init__(self):\n",
    "        print('A')\n",
    "        \n",
    "class B(A):\n",
    "    def __init__(self):\n",
    "        print('B')\n",
    "        \n",
    "class C(A):\n",
    "    def __init__(self):\n",
    "        print('C')\n",
    "        \n",
    "class D(A,C):  #다중상속/D는 A,C중 어떤 것을 먼저 상속받을 것인가\n",
    "    def __init__(self):\n",
    "        print('D')\n",
    "        \n",
    "# MRO 에러로 아예 다중 상속이 안된다"
   ]
  },
  {
   "cell_type": "code",
   "execution_count": 17,
   "metadata": {},
   "outputs": [],
   "source": [
    "#다시 돌아가서, 다중상속의 경우 compositon과 inheritance의 차이를 super 유무에 따른 결과로 살펴보자.\n",
    "class A:\n",
    "    def __init__(self):\n",
    "        print('A')\n",
    "        \n",
    "class B():\n",
    "    def __init__(self):\n",
    "        A.__init__(self)\n",
    "        print('B')\n",
    "        \n",
    "class C():\n",
    "    def __init__(self):\n",
    "        A.__init__(self)\n",
    "        print('C')\n",
    "        \n",
    "class D():  \n",
    "    def __init__(self):\n",
    "        B.__init__(self)\n",
    "        C.__init__(self)\n",
    "        print('D')"
   ]
  },
  {
   "cell_type": "code",
   "execution_count": 18,
   "metadata": {},
   "outputs": [
    {
     "name": "stdout",
     "output_type": "stream",
     "text": [
      "A\n",
      "B\n",
      "A\n",
      "C\n",
      "D\n"
     ]
    }
   ],
   "source": [
    "d = D()"
   ]
  },
  {
   "cell_type": "code",
   "execution_count": 21,
   "metadata": {},
   "outputs": [],
   "source": [
    "class A:\n",
    "    def __init__(self):\n",
    "        print('A')\n",
    "        \n",
    "class B(A):\n",
    "    def __init__(self):\n",
    "        super().__init__()\n",
    "        print('B')\n",
    "        \n",
    "class C(A):\n",
    "    def __init__(self):\n",
    "        super().__init__()\n",
    "        print('C')\n",
    "        \n",
    "class D(B,C):  \n",
    "    def __init__(self):\n",
    "        super().__init__()\n",
    "        print('D')"
   ]
  },
  {
   "cell_type": "code",
   "execution_count": 22,
   "metadata": {},
   "outputs": [
    {
     "name": "stdout",
     "output_type": "stream",
     "text": [
      "A\n",
      "C\n",
      "B\n",
      "D\n"
     ]
    }
   ],
   "source": [
    "d = D()\n",
    "# 중복이 발생할 경우, 알아서 처리해준다/"
   ]
  },
  {
   "cell_type": "markdown",
   "metadata": {},
   "source": [
    "---"
   ]
  },
  {
   "cell_type": "markdown",
   "metadata": {},
   "source": [
    "### Overloading과 polymorphism"
   ]
  },
  {
   "cell_type": "markdown",
   "metadata": {},
   "source": [
    "#### overloading\n",
    "\n",
    "\"파이썬은 오버로딩을 제공하지 않는다.\"\n",
    "\n",
    "  - 만약 한 클래스 내 **같은 이름**의 메쏘드가 여러개 존재한다면? --> 같은 이름에 기능을 추가 할 수 있으면 이를 over loading 이 가능하다고 이야기한다\n",
    "  - 이름만 같으면 된다/즉, 인자가 달라도 상관 없다\n",
    "  - **하지만 파이썬은 over loading을 지원하지 않는다**(에러가 안나서 지원하는 것 같지만 뒤에 것이 앞에거 뒤엎는다)\n",
    "  - over loading 에는 method overloadingr과 operator overloading 이 있고, method overloading은 지원하지 않지만, operator overloading은 또 지원한다.\n",
    "  > * 숫자 곱하기 문자 같은거 생각해봐/원래는 숫자 곱하기 숫자만 메쏘드내 정의되었지만 같은 이름으로 (문자를 반복 출력하는) 문자 곱하기 숫자 기능도 같이 실행할 수 있다.\n",
    "  > * 연산자 `[ ]` e.g. `k[0]`, `k['key']` 모두 가능 (객체 class 내에 `__getitem__` 메쏘드가 정의되어 있을 경우에만 사용할 수 있다.)"
   ]
  },
  {
   "cell_type": "markdown",
   "metadata": {},
   "source": [
    "cf. **over ridding** : 부모가 가진 어떤 메쏘드에 대하여, 자식에도 같은 이름의 다른 메쏘드가 있다면, 자식 메쏘드를 우선시 한다."
   ]
  },
  {
   "cell_type": "code",
   "execution_count": 53,
   "metadata": {},
   "outputs": [],
   "source": [
    "#연산자 overloading\n",
    "class int2(int):\n",
    "    def __add__(self, other):  #__add__ 는 더하기(+)\n",
    "        return ()"
   ]
  },
  {
   "cell_type": "code",
   "execution_count": 55,
   "metadata": {},
   "outputs": [],
   "source": [
    "a = int2(3)"
   ]
  },
  {
   "cell_type": "code",
   "execution_count": 56,
   "metadata": {},
   "outputs": [
    {
     "data": {
      "text/plain": [
       "3"
      ]
     },
     "execution_count": 56,
     "metadata": {},
     "output_type": "execute_result"
    }
   ],
   "source": [
    "a"
   ]
  },
  {
   "cell_type": "code",
   "execution_count": 57,
   "metadata": {},
   "outputs": [
    {
     "data": {
      "text/plain": [
       "()"
      ]
     },
     "execution_count": 57,
     "metadata": {},
     "output_type": "execute_result"
    }
   ],
   "source": [
    "a + 4"
   ]
  },
  {
   "cell_type": "markdown",
   "metadata": {},
   "source": [
    "#### 다형성_polymorphism\n",
    "일반적으로 다른 언어에서는 상속기반 다형성만 제공\n",
    "\n",
    "\n",
    "파이썬은 비상속기반 **duck typing** 도 제공\n",
    "(지금 예시에서, class B는 class A로부터 상속받은 것이 아니다)"
   ]
  },
  {
   "cell_type": "code",
   "execution_count": 27,
   "metadata": {},
   "outputs": [],
   "source": [
    "class A:        \n",
    "    def fly(self):\n",
    "        print('a')"
   ]
  },
  {
   "cell_type": "code",
   "execution_count": 28,
   "metadata": {},
   "outputs": [],
   "source": [
    "class B:\n",
    "    def fly(self):\n",
    "        print('b')"
   ]
  },
  {
   "cell_type": "code",
   "execution_count": 29,
   "metadata": {},
   "outputs": [],
   "source": [
    "def xxx(t):\n",
    "    t.fly()"
   ]
  },
  {
   "cell_type": "code",
   "execution_count": 30,
   "metadata": {},
   "outputs": [],
   "source": [
    "a = A()\n",
    "b = B()\n",
    "# class A, B 각각의 객체인 a,b는 fly 함수를 실해시켰을때 어떤 결과가 나올까"
   ]
  },
  {
   "cell_type": "code",
   "execution_count": 33,
   "metadata": {},
   "outputs": [
    {
     "name": "stdout",
     "output_type": "stream",
     "text": [
      "a\n"
     ]
    }
   ],
   "source": [
    "xxx(a)"
   ]
  },
  {
   "cell_type": "code",
   "execution_count": 34,
   "metadata": {},
   "outputs": [
    {
     "name": "stdout",
     "output_type": "stream",
     "text": [
      "b\n"
     ]
    }
   ],
   "source": [
    "xxx(b)"
   ]
  },
  {
   "cell_type": "code",
   "execution_count": null,
   "metadata": {},
   "outputs": [],
   "source": []
  }
 ],
 "metadata": {
  "kernelspec": {
   "display_name": "Python 3",
   "language": "python",
   "name": "python3"
  },
  "language_info": {
   "codemirror_mode": {
    "name": "ipython",
    "version": 3
   },
   "file_extension": ".py",
   "mimetype": "text/x-python",
   "name": "python",
   "nbconvert_exporter": "python",
   "pygments_lexer": "ipython3",
   "version": "3.7.6"
  }
 },
 "nbformat": 4,
 "nbformat_minor": 4
}
